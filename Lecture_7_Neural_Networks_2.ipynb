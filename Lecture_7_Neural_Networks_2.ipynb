{
  "nbformat": 4,
  "nbformat_minor": 0,
  "metadata": {
    "colab": {
      "provenance": [],
      "include_colab_link": true
    },
    "kernelspec": {
      "name": "python3",
      "display_name": "Python 3"
    },
    "language_info": {
      "name": "python"
    }
  },
  "cells": [
    {
      "cell_type": "markdown",
      "metadata": {
        "id": "view-in-github",
        "colab_type": "text"
      },
      "source": [
        "<a href=\"https://colab.research.google.com/github/KKirsche-l/Data-Science/blob/main/Lecture_7_Neural_Networks_2.ipynb\" target=\"_parent\"><img src=\"https://colab.research.google.com/assets/colab-badge.svg\" alt=\"Open In Colab\"/></a>"
      ]
    },
    {
      "cell_type": "code",
      "execution_count": null,
      "metadata": {
        "id": "e1I_c-GzNJU_"
      },
      "outputs": [],
      "source": [
        "import tensorflow as tf\n",
        "from tensorflow import keras\n",
        "import matplotlib.pyplot as plt\n",
        "import pandas as pd\n",
        "import numpy as np"
      ]
    },
    {
      "cell_type": "code",
      "source": [
        "fashion_mnist = keras.datasets.fashion_mnist\n",
        "(X_train_full, y_train_full), (X_test, y_test) = fashion_mnist.load_data()"
      ],
      "metadata": {
        "colab": {
          "base_uri": "https://localhost:8080/"
        },
        "id": "WPsbP6NtNS_b",
        "outputId": "de73d602-f69a-4cf7-de38-45bb0081a946"
      },
      "execution_count": null,
      "outputs": [
        {
          "output_type": "stream",
          "name": "stdout",
          "text": [
            "Downloading data from https://storage.googleapis.com/tensorflow/tf-keras-datasets/train-labels-idx1-ubyte.gz\n",
            "\u001b[1m29515/29515\u001b[0m \u001b[32m━━━━━━━━━━━━━━━━━━━━\u001b[0m\u001b[37m\u001b[0m \u001b[1m0s\u001b[0m 0us/step\n",
            "Downloading data from https://storage.googleapis.com/tensorflow/tf-keras-datasets/train-images-idx3-ubyte.gz\n",
            "\u001b[1m26421880/26421880\u001b[0m \u001b[32m━━━━━━━━━━━━━━━━━━━━\u001b[0m\u001b[37m\u001b[0m \u001b[1m0s\u001b[0m 0us/step\n",
            "Downloading data from https://storage.googleapis.com/tensorflow/tf-keras-datasets/t10k-labels-idx1-ubyte.gz\n",
            "\u001b[1m5148/5148\u001b[0m \u001b[32m━━━━━━━━━━━━━━━━━━━━\u001b[0m\u001b[37m\u001b[0m \u001b[1m0s\u001b[0m 0us/step\n",
            "Downloading data from https://storage.googleapis.com/tensorflow/tf-keras-datasets/t10k-images-idx3-ubyte.gz\n",
            "\u001b[1m4422102/4422102\u001b[0m \u001b[32m━━━━━━━━━━━━━━━━━━━━\u001b[0m\u001b[37m\u001b[0m \u001b[1m0s\u001b[0m 0us/step\n"
          ]
        }
      ]
    },
    {
      "cell_type": "code",
      "source": [
        "# Let’s take a look at the shape and data type of the training set:\n",
        "\n",
        "X_train_full.shape\n",
        "\n"
      ],
      "metadata": {
        "colab": {
          "base_uri": "https://localhost:8080/"
        },
        "id": "i8GrVzVFOdLs",
        "outputId": "5000292f-b783-434b-8b58-5f144452004d"
      },
      "execution_count": null,
      "outputs": [
        {
          "output_type": "execute_result",
          "data": {
            "text/plain": [
              "(60000, 28, 28)"
            ]
          },
          "metadata": {},
          "execution_count": 3
        }
      ]
    },
    {
      "cell_type": "code",
      "source": [
        "class_names = [\"T-shirt/top\", \"Trouser\", \"Pullover\", \"Dress\", \"Coat\",\n",
        "\"Sandal\", \"Shirt\", \"Sneaker\", \"Bag\", \"Ankle boot\"]"
      ],
      "metadata": {
        "id": "BVeq5Q-4RheX"
      },
      "execution_count": null,
      "outputs": []
    },
    {
      "cell_type": "code",
      "source": [
        "class_names[y_train_full[10000]]"
      ],
      "metadata": {
        "colab": {
          "base_uri": "https://localhost:8080/",
          "height": 36
        },
        "id": "KLXRa7MBRjnE",
        "outputId": "270f0ac0-9ca0-465c-d8de-ca33785ff8b3"
      },
      "execution_count": null,
      "outputs": [
        {
          "output_type": "execute_result",
          "data": {
            "text/plain": [
              "'Bag'"
            ],
            "application/vnd.google.colaboratory.intrinsic+json": {
              "type": "string"
            }
          },
          "metadata": {},
          "execution_count": 14
        }
      ]
    },
    {
      "cell_type": "code",
      "source": [
        "X_test[10]"
      ],
      "metadata": {
        "colab": {
          "base_uri": "https://localhost:8080/",
          "height": 68
        },
        "id": "e4ZVA_d-QXDt",
        "outputId": "da9a87bf-ae8d-49f7-de84-079f6acf2678"
      },
      "execution_count": null,
      "outputs": [
        {
          "output_type": "execute_result",
          "data": {
            "text/plain": [
              "array([[  0,   0,   0,   0,   0,   0,   0,   0,   0,   0,   0, 145, 190,\n",
              "         97, 109, 105, 187,  76,   0,   0,   0,   2,   0,   0,   0,   0,\n",
              "          0,   0],\n",
              "       [  0,   0,   0,   0,   0,   0,   0,   0,   0,  64, 170, 163, 208,\n",
              "        243, 240, 229, 173, 162, 154,  18,   0,   0,   0,   0,   0,   0,\n",
              "          0,   0],\n",
              "       [  0,   0,   0,   0,   0,   0,   0,  39, 158, 196, 149, 191, 199,\n",
              "        223, 243, 186, 191, 170, 155, 162, 126,  22,   0,   0,   0,   0,\n",
              "          0,   0],\n",
              "       [  0,   0,   0,   0,   3,   0, 105, 161, 150, 141, 130, 199, 239,\n",
              "        229, 220, 188, 244, 145, 128, 142, 151, 175,  23,   0,   2,   0,\n",
              "          0,   0],\n",
              "       [  0,   0,   0,   0,   0,   0, 150, 137, 134, 130, 147, 121, 241,\n",
              "        255, 114, 240, 173, 142, 136, 132, 128, 153, 113,   0,   0,   0,\n",
              "          0,   0],\n",
              "       [  0,   0,   0,   0,   0,  17, 157, 129, 146, 149, 137, 141, 177,\n",
              "        200, 200, 207, 134, 145, 142, 140, 132, 129, 140,   3,   0,   0,\n",
              "          0,   0],\n",
              "       [  0,   0,   0,   0,   0,  50, 158, 137, 153, 150, 125, 155, 191,\n",
              "        175, 141, 165, 166, 153, 130, 129, 132, 141, 149,  18,   0,   0,\n",
              "          0,   0],\n",
              "       [  0,   0,   0,   0,   0,  77, 166, 161, 137, 151, 166, 181, 216,\n",
              "        182, 158, 215, 195, 155, 159, 162, 173, 150, 150,  58,   0,   0,\n",
              "          0,   0],\n",
              "       [  0,   0,   0,   0,   0, 104, 159, 170, 140, 132, 182, 198, 208,\n",
              "        175, 136, 174, 169, 147, 155, 121, 188, 162, 142, 101,   0,   0,\n",
              "          0,   0],\n",
              "       [  0,   0,   0,   0,   0, 112, 171, 206, 179, 147, 163, 177, 196,\n",
              "        192, 146, 187, 153, 142, 144, 136, 245, 202, 132, 137,   0,   0,\n",
              "          0,   0],\n",
              "       [  0,   0,   0,   0,   0, 126, 181, 219, 146, 157, 128, 121, 175,\n",
              "        196, 104, 157, 158, 151, 140, 103,  89, 221, 141, 153,   0,   0,\n",
              "          0,   0],\n",
              "       [  0,   0,   0,   0,   0, 157, 175, 216,  55, 175, 153, 151, 188,\n",
              "        214, 126, 204, 159, 145, 145, 116,  71, 212, 154, 155,   0,   0,\n",
              "          0,   0],\n",
              "       [  0,   0,   0,   0,   0, 183, 163, 232,  64, 138, 142, 182, 195,\n",
              "        200, 158, 231, 146, 130, 161, 132, 105, 225, 146, 157,  10,   0,\n",
              "          0,   0],\n",
              "       [  0,   0,   0,   0,   6, 188, 161, 221,  54, 149, 165, 151, 167,\n",
              "        188, 170, 181, 154, 141, 130, 144,  93, 207, 166, 142,  34,   0,\n",
              "          0,   0],\n",
              "       [  0,   0,   0,   0,  42, 182, 165, 236,  29, 146, 170, 141, 166,\n",
              "        208, 124, 162, 173, 154, 132, 140,  97, 194, 153, 161,  47,   0,\n",
              "          0,   0],\n",
              "       [  0,   0,   0,   0,  58, 175, 171, 191,   5, 173, 162, 154, 181,\n",
              "        207, 100, 161, 179, 155, 146, 149,  76, 192, 162, 150,  62,   0,\n",
              "          0,   0],\n",
              "       [  0,   0,   0,   0,  80, 179, 166, 167,  10, 182, 151, 157, 178,\n",
              "        184, 166, 208, 174, 138, 146, 140,  73, 186, 161, 155,  71,   0,\n",
              "          0,   0],\n",
              "       [  0,   0,   0,   0, 100, 165, 171, 138,  51, 194, 157, 133, 187,\n",
              "        196, 166, 198, 163, 129, 142, 134,  73, 191, 154, 155,  79,   0,\n",
              "          0,   0],\n",
              "       [  0,   0,   0,   0, 109, 158, 175, 118,  73, 179, 146, 149, 183,\n",
              "        207, 141, 184, 171, 153, 137, 147,  73, 195, 157, 154,  85,   0,\n",
              "          0,   0],\n",
              "       [  0,   0,   0,   0, 109, 163, 179, 122, 116, 177, 144, 165, 182,\n",
              "        190, 147, 179, 162, 146, 133, 153,  97, 161, 158, 150,  95,   0,\n",
              "          0,   0],\n",
              "       [  0,   0,   0,   0, 107, 158, 167, 163, 105, 137, 161, 163, 203,\n",
              "        199, 149, 181, 167, 161, 147, 147,  99, 166, 157, 141,  99,   0,\n",
              "          0,   0],\n",
              "       [  0,   0,   0,   0, 109, 154, 166, 145,   0,  34,  84,  63, 107,\n",
              "        149, 132, 153, 129, 124, 149,  56,   0, 114, 159, 141,  97,   0,\n",
              "          0,   0],\n",
              "       [  0,   0,   0,   0, 108, 154, 169,  85,   0,   0,   0,   0,   0,\n",
              "          0,   2,   9,   0,   0,   0,   0,   0,  93, 157, 142,  99,   0,\n",
              "          0,   0],\n",
              "       [  0,   0,   0,   0, 101, 153, 169,  80,   0,   3,   0,   1,   0,\n",
              "          0,   0,   0,   0,   0,   0,   1,   0,  80, 155, 144, 105,   0,\n",
              "          0,   0],\n",
              "       [  0,   0,   0,   0, 121, 157, 166,  76,   0,   3,   0,   0,   1,\n",
              "          0,   0,   0,   0,   0,   0,   3,   0,  67, 162, 141, 100,   0,\n",
              "          0,   0],\n",
              "       [  0,   0,   0,   0, 124, 153, 162,  51,   0,   3,   0,   0,   0,\n",
              "          0,   0,   1,   0,   1,   0,   5,   0,  58, 167, 146,  87,   0,\n",
              "          0,   0],\n",
              "       [  0,   0,   0,   0, 122, 165, 181,  54,   0,   5,   0,   0,   0,\n",
              "          0,   0,   0,   0,   0,   0,   5,   0,  54, 170, 140,  75,   0,\n",
              "          0,   0],\n",
              "       [  0,   0,   0,   0,  25,  75,  92,   3,   0,   1,   0,   0,   0,\n",
              "          0,   0,   0,   0,   0,   0,   3,   0,  29, 145, 137,  59,   0,\n",
              "          0,   0]], dtype=uint8)"
            ],
            "text/html": [
              "<style>\n",
              "      .ndarray_repr .ndarray_raw_data {\n",
              "        display: none;\n",
              "      }\n",
              "      .ndarray_repr.show_array .ndarray_raw_data {\n",
              "        display: block;\n",
              "      }\n",
              "      .ndarray_repr.show_array .ndarray_image_preview {\n",
              "        display: none;\n",
              "      }\n",
              "      </style>\n",
              "      <div id=\"id-01359d04-8e8f-4739-83ac-b26efa2a61ad\" class=\"ndarray_repr\"><pre>ndarray (28, 28) <button style=\"padding: 0 2px;\">show data</button></pre><img src=\"data:image/png;base64,iVBORw0KGgoAAAANSUhEUgAAABwAAAAcCAAAAABXZoBIAAACNUlEQVR4nE3Sy27TQBQG4H/GHl8SO7ab0CaNSi9UtGmJKlWwYId4BBYsWLOBFwDxFt1wWbGoeAHEhh1IIMoCJEBqQUCrcrNbN2nS2LEdj20W1A6znE9n5hydn2B8NtqbGr+28QygKQCAFHTldtQ+l/hbfni3e3qV49Kd8x9WlHrtDXP78reHhwAACgACbt0L33aUZemAXrJ/HzUeTYHmmKDt9HzrKZ2+f/F5ogwPDm8gBSACACzZtQSv9mLq+t6XsiSGTlNI8krME0UmXqViv96eUzwfmmoUf6Kp1HukNd2QrfUZOjPfUsnyfxipQse0wuhw50/IdwwtXB2joi0uGR3Xs0p6L/aNy8vDxTFWSvpe6fuWK27/YCrfu1lVzTHOjpInE42z+sTkGhkxvRvodIzTnql+9Wflk7nmoG+aC3pISzlKLPWH5an9X572Xinva1631q/nuDgSDTthw6z2sVPVKRcHg6qeoxlJn5xmqBuZk0mkorqp6hs5Toqxw1RfSA6ursXHCJJRxtQcayfsZ0uTHFXD0A/4CCyCkqMaiUeTfd/kZftEqcc6RCGTilGYKK6mqZkdS3EQcam+S3gxShp7Lf+zlZ5RKWVGZURZFoj5PinPug8W1t0LK8eiEzc2t4z2eNkZhFfY3cVLUDkAADclRUyiDDEEECANABAMUlo0VBMTDiA7jSLFQE7iIn2c2/+eBwEBRcDYoOhWqwqnQ2XIAHBh5OUNPV633oEX2U9h20kPwF+B4OJ1nuRI+QAAAABJRU5ErkJggg==\" class=\"ndarray_image_preview\" /><pre class=\"ndarray_raw_data\">array([[  0,   0,   0,   0,   0,   0,   0,   0,   0,   0,   0, 145, 190,\n",
              "         97, 109, 105, 187,  76,   0,   0,   0,   2,   0,   0,   0,   0,\n",
              "          0,   0],\n",
              "       [  0,   0,   0,   0,   0,   0,   0,   0,   0,  64, 170, 163, 208,\n",
              "        243, 240, 229, 173, 162, 154,  18,   0,   0,   0,   0,   0,   0,\n",
              "          0,   0],\n",
              "       [  0,   0,   0,   0,   0,   0,   0,  39, 158, 196, 149, 191, 199,\n",
              "        223, 243, 186, 191, 170, 155, 162, 126,  22,   0,   0,   0,   0,\n",
              "          0,   0],\n",
              "       [  0,   0,   0,   0,   3,   0, 105, 161, 150, 141, 130, 199, 239,\n",
              "        229, 220, 188, 244, 145, 128, 142, 151, 175,  23,   0,   2,   0,\n",
              "          0,   0],\n",
              "       [  0,   0,   0,   0,   0,   0, 150, 137, 134, 130, 147, 121, 241,\n",
              "        255, 114, 240, 173, 142, 136, 132, 128, 153, 113,   0,   0,   0,\n",
              "          0,   0],\n",
              "       [  0,   0,   0,   0,   0,  17, 157, 129, 146, 149, 137, 141, 177,\n",
              "        200, 200, 207, 134, 145, 142, 140, 132, 129, 140,   3,   0,   0,\n",
              "          0,   0],\n",
              "       [  0,   0,   0,   0,   0,  50, 158, 137, 153, 150, 125, 155, 191,\n",
              "        175, 141, 165, 166, 153, 130, 129, 132, 141, 149,  18,   0,   0,\n",
              "          0,   0],\n",
              "       [  0,   0,   0,   0,   0,  77, 166, 161, 137, 151, 166, 181, 216,\n",
              "        182, 158, 215, 195, 155, 159, 162, 173, 150, 150,  58,   0,   0,\n",
              "          0,   0],\n",
              "       [  0,   0,   0,   0,   0, 104, 159, 170, 140, 132, 182, 198, 208,\n",
              "        175, 136, 174, 169, 147, 155, 121, 188, 162, 142, 101,   0,   0,\n",
              "          0,   0],\n",
              "       [  0,   0,   0,   0,   0, 112, 171, 206, 179, 147, 163, 177, 196,\n",
              "        192, 146, 187, 153, 142, 144, 136, 245, 202, 132, 137,   0,   0,\n",
              "          0,   0],\n",
              "       [  0,   0,   0,   0,   0, 126, 181, 219, 146, 157, 128, 121, 175,\n",
              "        196, 104, 157, 158, 151, 140, 103,  89, 221, 141, 153,   0,   0,\n",
              "          0,   0],\n",
              "       [  0,   0,   0,   0,   0, 157, 175, 216,  55, 175, 153, 151, 188,\n",
              "        214, 126, 204, 159, 145, 145, 116,  71, 212, 154, 155,   0,   0,\n",
              "          0,   0],\n",
              "       [  0,   0,   0,   0,   0, 183, 163, 232,  64, 138, 142, 182, 195,\n",
              "        200, 158, 231, 146, 130, 161, 132, 105, 225, 146, 157,  10,   0,\n",
              "          0,   0],\n",
              "       [  0,   0,   0,   0,   6, 188, 161, 221,  54, 149, 165, 151, 167,\n",
              "        188, 170, 181, 154, 141, 130, 144,  93, 207, 166, 142,  34,   0,\n",
              "          0,   0],\n",
              "       [  0,   0,   0,   0,  42, 182, 165, 236,  29, 146, 170, 141, 166,\n",
              "        208, 124, 162, 173, 154, 132, 140,  97, 194, 153, 161,  47,   0,\n",
              "          0,   0],\n",
              "       [  0,   0,   0,   0,  58, 175, 171, 191,   5, 173, 162, 154, 181,\n",
              "        207, 100, 161, 179, 155, 146, 149,  76, 192, 162, 150,  62,   0,\n",
              "          0,   0],\n",
              "       [  0,   0,   0,   0,  80, 179, 166, 167,  10, 182, 151, 157, 178,\n",
              "        184, 166, 208, 174, 138, 146, 140,  73, 186, 161, 155,  71,   0,\n",
              "          0,   0],\n",
              "       [  0,   0,   0,   0, 100, 165, 171, 138,  51, 194, 157, 133, 187,\n",
              "        196, 166, 198, 163, 129, 142, 134,  73, 191, 154, 155,  79,   0,\n",
              "          0,   0],\n",
              "       [  0,   0,   0,   0, 109, 158, 175, 118,  73, 179, 146, 149, 183,\n",
              "        207, 141, 184, 171, 153, 137, 147,  73, 195, 157, 154,  85,   0,\n",
              "          0,   0],\n",
              "       [  0,   0,   0,   0, 109, 163, 179, 122, 116, 177, 144, 165, 182,\n",
              "        190, 147, 179, 162, 146, 133, 153,  97, 161, 158, 150,  95,   0,\n",
              "          0,   0],\n",
              "       [  0,   0,   0,   0, 107, 158, 167, 163, 105, 137, 161, 163, 203,\n",
              "        199, 149, 181, 167, 161, 147, 147,  99, 166, 157, 141,  99,   0,\n",
              "          0,   0],\n",
              "       [  0,   0,   0,   0, 109, 154, 166, 145,   0,  34,  84,  63, 107,\n",
              "        149, 132, 153, 129, 124, 149,  56,   0, 114, 159, 141,  97,   0,\n",
              "          0,   0],\n",
              "       [  0,   0,   0,   0, 108, 154, 169,  85,   0,   0,   0,   0,   0,\n",
              "          0,   2,   9,   0,   0,   0,   0,   0,  93, 157, 142,  99,   0,\n",
              "          0,   0],\n",
              "       [  0,   0,   0,   0, 101, 153, 169,  80,   0,   3,   0,   1,   0,\n",
              "          0,   0,   0,   0,   0,   0,   1,   0,  80, 155, 144, 105,   0,\n",
              "          0,   0],\n",
              "       [  0,   0,   0,   0, 121, 157, 166,  76,   0,   3,   0,   0,   1,\n",
              "          0,   0,   0,   0,   0,   0,   3,   0,  67, 162, 141, 100,   0,\n",
              "          0,   0],\n",
              "       [  0,   0,   0,   0, 124, 153, 162,  51,   0,   3,   0,   0,   0,\n",
              "          0,   0,   1,   0,   1,   0,   5,   0,  58, 167, 146,  87,   0,\n",
              "          0,   0],\n",
              "       [  0,   0,   0,   0, 122, 165, 181,  54,   0,   5,   0,   0,   0,\n",
              "          0,   0,   0,   0,   0,   0,   5,   0,  54, 170, 140,  75,   0,\n",
              "          0,   0],\n",
              "       [  0,   0,   0,   0,  25,  75,  92,   3,   0,   1,   0,   0,   0,\n",
              "          0,   0,   0,   0,   0,   0,   3,   0,  29, 145, 137,  59,   0,\n",
              "          0,   0]], dtype=uint8)</pre></div><script>\n",
              "      (() => {\n",
              "      const titles = ['show data', 'hide data'];\n",
              "      let index = 0\n",
              "      document.querySelector('#id-01359d04-8e8f-4739-83ac-b26efa2a61ad button').onclick = (e) => {\n",
              "        document.querySelector('#id-01359d04-8e8f-4739-83ac-b26efa2a61ad').classList.toggle('show_array');\n",
              "        index = (++index) % 2;\n",
              "        document.querySelector('#id-01359d04-8e8f-4739-83ac-b26efa2a61ad button').textContent = titles[index];\n",
              "        e.preventDefault();\n",
              "        e.stopPropagation();\n",
              "      }\n",
              "      })();\n",
              "    </script>"
            ]
          },
          "metadata": {},
          "execution_count": 15
        }
      ]
    },
    {
      "cell_type": "code",
      "source": [
        "plt.imshow(X_train_full[10], cmap='pink')\n",
        "plt.show()"
      ],
      "metadata": {
        "colab": {
          "base_uri": "https://localhost:8080/",
          "height": 430
        },
        "id": "0juNrhTRQoz0",
        "outputId": "e1619f84-18be-401a-a1e5-6fb4b66db892"
      },
      "execution_count": null,
      "outputs": [
        {
          "output_type": "display_data",
          "data": {
            "text/plain": [
              "<Figure size 640x480 with 1 Axes>"
            ],
            "image/png": "[encoded data removed]"
          },
          "metadata": {}
        }
      ]
    },
    {
      "cell_type": "markdown",
      "source": [
        "Scaling and creating a validation set"
      ],
      "metadata": {
        "id": "Um3OVVc9QPu9"
      }
    },
    {
      "cell_type": "code",
      "source": [
        "X_valid, X_train = X_train_full[:5000] / 255.0, X_train_full[5000:] / 255.0\n",
        "y_valid, y_train = y_train_full[:5000], y_train_full[5000:]"
      ],
      "metadata": {
        "id": "hHUGygoPP7UL"
      },
      "execution_count": null,
      "outputs": []
    },
    {
      "cell_type": "markdown",
      "source": [
        "Creating the model using the Sequential API"
      ],
      "metadata": {
        "id": "idNYJ9T4RyUo"
      }
    },
    {
      "cell_type": "markdown",
      "source": [
        "\n",
        "\n",
        "1.  The first line creates a Sequential model. This is the simplest kind of Keras model for neural networks that are just composed of a single stack of layers connected sequentially. This is called the Sequential API.\n",
        "2.  The second line prepares the image for imputtin into the network\n",
        "3.  The three following lines add 3 layers, each with a different activation function.\n",
        "\n"
      ],
      "metadata": {
        "id": "NAjsTjisR4w_"
      }
    },
    {
      "cell_type": "code",
      "source": [
        "\n",
        "model = keras.models.Sequential([\n",
        "keras.layers.Flatten(input_shape=[28, 28]),\n",
        "keras.layers.Dense(300, activation=\"relu\"),\n",
        "keras.layers.Dense(100, activation=\"relu\"),\n",
        "keras.layers.Dense(10, activation=\"softmax\")\n",
        "])"
      ],
      "metadata": {
        "id": "SJwm4SehU7eI"
      },
      "execution_count": null,
      "outputs": []
    },
    {
      "cell_type": "code",
      "source": [
        "# Examine the model (note the large number of parameters!)\n",
        "\n",
        "model.summary()"
      ],
      "metadata": {
        "colab": {
          "base_uri": "https://localhost:8080/",
          "height": 261
        },
        "id": "d8mbrpNHVC2o",
        "outputId": "50fdb56c-efb0-4142-f44a-ac343aa93ad5"
      },
      "execution_count": null,
      "outputs": [
        {
          "output_type": "display_data",
          "data": {
            "text/plain": [
              "\u001b[1mModel: \"sequential\"\u001b[0m\n"
            ],
            "text/html": [
              "<pre style=\"white-space:pre;overflow-x:auto;line-height:normal;font-family:Menlo,'DejaVu Sans Mono',consolas,'Courier New',monospace\"><span style=\"font-weight: bold\">Model: \"sequential\"</span>\n",
              "</pre>\n"
            ]
          },
          "metadata": {}
        },
        {
          "output_type": "display_data",
          "data": {
            "text/plain": [
              "┏━━━━━━━━━━━━━━━━━━━━━━━━━━━━━━━━━━━━━━┳━━━━━━━━━━━━━━━━━━━━━━━━━━━━━┳━━━━━━━━━━━━━━━━━┓\n",
              "┃\u001b[1m \u001b[0m\u001b[1mLayer (type)                        \u001b[0m\u001b[1m \u001b[0m┃\u001b[1m \u001b[0m\u001b[1mOutput Shape               \u001b[0m\u001b[1m \u001b[0m┃\u001b[1m \u001b[0m\u001b[1m        Param #\u001b[0m\u001b[1m \u001b[0m┃\n",
              "┡━━━━━━━━━━━━━━━━━━━━━━━━━━━━━━━━━━━━━━╇━━━━━━━━━━━━━━━━━━━━━━━━━━━━━╇━━━━━━━━━━━━━━━━━┩\n",
              "│ flatten (\u001b[38;5;33mFlatten\u001b[0m)                    │ (\u001b[38;5;45mNone\u001b[0m, \u001b[38;5;34m784\u001b[0m)                 │               \u001b[38;5;34m0\u001b[0m │\n",
              "├──────────────────────────────────────┼─────────────────────────────┼─────────────────┤\n",
              "│ dense (\u001b[38;5;33mDense\u001b[0m)                        │ (\u001b[38;5;45mNone\u001b[0m, \u001b[38;5;34m300\u001b[0m)                 │         \u001b[38;5;34m235,500\u001b[0m │\n",
              "├──────────────────────────────────────┼─────────────────────────────┼─────────────────┤\n",
              "│ dense_1 (\u001b[38;5;33mDense\u001b[0m)                      │ (\u001b[38;5;45mNone\u001b[0m, \u001b[38;5;34m100\u001b[0m)                 │          \u001b[38;5;34m30,100\u001b[0m │\n",
              "├──────────────────────────────────────┼─────────────────────────────┼─────────────────┤\n",
              "│ dense_2 (\u001b[38;5;33mDense\u001b[0m)                      │ (\u001b[38;5;45mNone\u001b[0m, \u001b[38;5;34m10\u001b[0m)                  │           \u001b[38;5;34m1,010\u001b[0m │\n",
              "└──────────────────────────────────────┴─────────────────────────────┴─────────────────┘\n"
            ],
            "text/html": [
              "<pre style=\"white-space:pre;overflow-x:auto;line-height:normal;font-family:Menlo,'DejaVu Sans Mono',consolas,'Courier New',monospace\">┏━━━━━━━━━━━━━━━━━━━━━━━━━━━━━━━━━━━━━━┳━━━━━━━━━━━━━━━━━━━━━━━━━━━━━┳━━━━━━━━━━━━━━━━━┓\n",
              "┃<span style=\"font-weight: bold\"> Layer (type)                         </span>┃<span style=\"font-weight: bold\"> Output Shape                </span>┃<span style=\"font-weight: bold\">         Param # </span>┃\n",
              "┡━━━━━━━━━━━━━━━━━━━━━━━━━━━━━━━━━━━━━━╇━━━━━━━━━━━━━━━━━━━━━━━━━━━━━╇━━━━━━━━━━━━━━━━━┩\n",
              "│ flatten (<span style=\"color: #0087ff; text-decoration-color: #0087ff\">Flatten</span>)                    │ (<span style=\"color: #00d7ff; text-decoration-color: #00d7ff\">None</span>, <span style=\"color: #00af00; text-decoration-color: #00af00\">784</span>)                 │               <span style=\"color: #00af00; text-decoration-color: #00af00\">0</span> │\n",
              "├──────────────────────────────────────┼─────────────────────────────┼─────────────────┤\n",
              "│ dense (<span style=\"color: #0087ff; text-decoration-color: #0087ff\">Dense</span>)                        │ (<span style=\"color: #00d7ff; text-decoration-color: #00d7ff\">None</span>, <span style=\"color: #00af00; text-decoration-color: #00af00\">300</span>)                 │         <span style=\"color: #00af00; text-decoration-color: #00af00\">235,500</span> │\n",
              "├──────────────────────────────────────┼─────────────────────────────┼─────────────────┤\n",
              "│ dense_1 (<span style=\"color: #0087ff; text-decoration-color: #0087ff\">Dense</span>)                      │ (<span style=\"color: #00d7ff; text-decoration-color: #00d7ff\">None</span>, <span style=\"color: #00af00; text-decoration-color: #00af00\">100</span>)                 │          <span style=\"color: #00af00; text-decoration-color: #00af00\">30,100</span> │\n",
              "├──────────────────────────────────────┼─────────────────────────────┼─────────────────┤\n",
              "│ dense_2 (<span style=\"color: #0087ff; text-decoration-color: #0087ff\">Dense</span>)                      │ (<span style=\"color: #00d7ff; text-decoration-color: #00d7ff\">None</span>, <span style=\"color: #00af00; text-decoration-color: #00af00\">10</span>)                  │           <span style=\"color: #00af00; text-decoration-color: #00af00\">1,010</span> │\n",
              "└──────────────────────────────────────┴─────────────────────────────┴─────────────────┘\n",
              "</pre>\n"
            ]
          },
          "metadata": {}
        },
        {
          "output_type": "display_data",
          "data": {
            "text/plain": [
              "\u001b[1m Total params: \u001b[0m\u001b[38;5;34m266,610\u001b[0m (1.02 MB)\n"
            ],
            "text/html": [
              "<pre style=\"white-space:pre;overflow-x:auto;line-height:normal;font-family:Menlo,'DejaVu Sans Mono',consolas,'Courier New',monospace\"><span style=\"font-weight: bold\"> Total params: </span><span style=\"color: #00af00; text-decoration-color: #00af00\">266,610</span> (1.02 MB)\n",
              "</pre>\n"
            ]
          },
          "metadata": {}
        },
        {
          "output_type": "display_data",
          "data": {
            "text/plain": [
              "\u001b[1m Trainable params: \u001b[0m\u001b[38;5;34m266,610\u001b[0m (1.02 MB)\n"
            ],
            "text/html": [
              "<pre style=\"white-space:pre;overflow-x:auto;line-height:normal;font-family:Menlo,'DejaVu Sans Mono',consolas,'Courier New',monospace\"><span style=\"font-weight: bold\"> Trainable params: </span><span style=\"color: #00af00; text-decoration-color: #00af00\">266,610</span> (1.02 MB)\n",
              "</pre>\n"
            ]
          },
          "metadata": {}
        },
        {
          "output_type": "display_data",
          "data": {
            "text/plain": [
              "\u001b[1m Non-trainable params: \u001b[0m\u001b[38;5;34m0\u001b[0m (0.00 B)\n"
            ],
            "text/html": [
              "<pre style=\"white-space:pre;overflow-x:auto;line-height:normal;font-family:Menlo,'DejaVu Sans Mono',consolas,'Courier New',monospace\"><span style=\"font-weight: bold\"> Non-trainable params: </span><span style=\"color: #00af00; text-decoration-color: #00af00\">0</span> (0.00 B)\n",
              "</pre>\n"
            ]
          },
          "metadata": {}
        }
      ]
    },
    {
      "cell_type": "code",
      "source": [
        " # We can visualise the weights and biases and see how they have been initialised.\n",
        " # The initialisation is different at any run of the model\n",
        "\n",
        "model.layers[1].get_weights()"
      ],
      "metadata": {
        "colab": {
          "base_uri": "https://localhost:8080/"
        },
        "id": "3T8Q4HX4Vd1L",
        "outputId": "694c93c9-16a2-4cf6-9189-d9772e237683"
      },
      "execution_count": null,
      "outputs": [
        {
          "output_type": "execute_result",
          "data": {
            "text/plain": [
              "[array([[-0.03208691,  0.03118064, -0.03094142, ..., -0.06280749,\n",
              "         -0.01970413, -0.04639797],\n",
              "        [ 0.03684897,  0.02410465, -0.001518  , ..., -0.03161093,\n",
              "          0.03941536, -0.04126713],\n",
              "        [-0.01607715,  0.07233766, -0.06837395, ...,  0.02436662,\n",
              "          0.05408654, -0.02429946],\n",
              "        ...,\n",
              "        [ 0.05258091,  0.06930141, -0.00979295, ...,  0.0617598 ,\n",
              "          0.03943953,  0.05911246],\n",
              "        [ 0.02237429, -0.06855027, -0.07388153, ..., -0.06193503,\n",
              "          0.06292103,  0.06412826],\n",
              "        [ 0.063557  ,  0.03586622, -0.06448866, ..., -0.03295094,\n",
              "         -0.06791925,  0.01667324]], dtype=float32),\n",
              " array([0., 0., 0., 0., 0., 0., 0., 0., 0., 0., 0., 0., 0., 0., 0., 0., 0.,\n",
              "        0., 0., 0., 0., 0., 0., 0., 0., 0., 0., 0., 0., 0., 0., 0., 0., 0.,\n",
              "        0., 0., 0., 0., 0., 0., 0., 0., 0., 0., 0., 0., 0., 0., 0., 0., 0.,\n",
              "        0., 0., 0., 0., 0., 0., 0., 0., 0., 0., 0., 0., 0., 0., 0., 0., 0.,\n",
              "        0., 0., 0., 0., 0., 0., 0., 0., 0., 0., 0., 0., 0., 0., 0., 0., 0.,\n",
              "        0., 0., 0., 0., 0., 0., 0., 0., 0., 0., 0., 0., 0., 0., 0., 0., 0.,\n",
              "        0., 0., 0., 0., 0., 0., 0., 0., 0., 0., 0., 0., 0., 0., 0., 0., 0.,\n",
              "        0., 0., 0., 0., 0., 0., 0., 0., 0., 0., 0., 0., 0., 0., 0., 0., 0.,\n",
              "        0., 0., 0., 0., 0., 0., 0., 0., 0., 0., 0., 0., 0., 0., 0., 0., 0.,\n",
              "        0., 0., 0., 0., 0., 0., 0., 0., 0., 0., 0., 0., 0., 0., 0., 0., 0.,\n",
              "        0., 0., 0., 0., 0., 0., 0., 0., 0., 0., 0., 0., 0., 0., 0., 0., 0.,\n",
              "        0., 0., 0., 0., 0., 0., 0., 0., 0., 0., 0., 0., 0., 0., 0., 0., 0.,\n",
              "        0., 0., 0., 0., 0., 0., 0., 0., 0., 0., 0., 0., 0., 0., 0., 0., 0.,\n",
              "        0., 0., 0., 0., 0., 0., 0., 0., 0., 0., 0., 0., 0., 0., 0., 0., 0.,\n",
              "        0., 0., 0., 0., 0., 0., 0., 0., 0., 0., 0., 0., 0., 0., 0., 0., 0.,\n",
              "        0., 0., 0., 0., 0., 0., 0., 0., 0., 0., 0., 0., 0., 0., 0., 0., 0.,\n",
              "        0., 0., 0., 0., 0., 0., 0., 0., 0., 0., 0., 0., 0., 0., 0., 0., 0.,\n",
              "        0., 0., 0., 0., 0., 0., 0., 0., 0., 0., 0.], dtype=float32)]"
            ]
          },
          "metadata": {},
          "execution_count": 25
        }
      ]
    },
    {
      "cell_type": "code",
      "source": [],
      "metadata": {
        "id": "bzLhBlpL-Fe-"
      },
      "execution_count": null,
      "outputs": []
    },
    {
      "cell_type": "code",
      "source": [
        "# After a model is created, we compile() to specify the loss function and the optimizer to use.\n",
        "\n",
        "model.compile(loss=\"sparse_categorical_crossentropy\", optimizer=\"sgd\", metrics=[\"accuracy\"])\n",
        "\n"
      ],
      "metadata": {
        "id": "87euVXoBV8K3"
      },
      "execution_count": null,
      "outputs": []
    },
    {
      "cell_type": "markdown",
      "source": [
        "The loss functions available are listed in https://keras.io/losses. There are many.\n",
        "\n",
        "The SparseCategoricalCrossentropy class is a loss function that is commonly used in multi-class classification problems where the labels are represented as integers."
      ],
      "metadata": {
        "id": "8nFvfjJJWTMq"
      }
    },
    {
      "cell_type": "code",
      "source": [
        "# To train the model, we simply use fit\n",
        "\n",
        "history = model.fit(X_train, y_train, epochs=10, validation_data=(X_valid, y_valid))"
      ],
      "metadata": {
        "colab": {
          "base_uri": "https://localhost:8080/"
        },
        "id": "3adXdDhbWRdg",
        "outputId": "972772db-f976-41dc-dd58-0fea315091e1"
      },
      "execution_count": null,
      "outputs": [
        {
          "output_type": "stream",
          "name": "stdout",
          "text": [
            "Epoch 1/10\n",
            "\u001b[1m1719/1719\u001b[0m \u001b[32m━━━━━━━━━━━━━━━━━━━━\u001b[0m\u001b[37m\u001b[0m \u001b[1m7s\u001b[0m 4ms/step - accuracy: 0.8535 - loss: 0.4194 - val_accuracy: 0.8588 - val_loss: 0.4152\n",
            "Epoch 2/10\n",
            "\u001b[1m1719/1719\u001b[0m \u001b[32m━━━━━━━━━━━━━━━━━━━━\u001b[0m\u001b[37m\u001b[0m \u001b[1m8s\u001b[0m 4ms/step - accuracy: 0.8619 - loss: 0.3972 - val_accuracy: 0.8576 - val_loss: 0.4121\n",
            "Epoch 3/10\n",
            "\u001b[1m1719/1719\u001b[0m \u001b[32m━━━━━━━━━━━━━━━━━━━━\u001b[0m\u001b[37m\u001b[0m \u001b[1m10s\u001b[0m 5ms/step - accuracy: 0.8638 - loss: 0.3875 - val_accuracy: 0.8702 - val_loss: 0.3758\n",
            "Epoch 4/10\n",
            "\u001b[1m1719/1719\u001b[0m \u001b[32m━━━━━━━━━━━━━━━━━━━━\u001b[0m\u001b[37m\u001b[0m \u001b[1m11s\u001b[0m 5ms/step - accuracy: 0.8678 - loss: 0.3702 - val_accuracy: 0.8718 - val_loss: 0.3646\n",
            "Epoch 5/10\n",
            "\u001b[1m1719/1719\u001b[0m \u001b[32m━━━━━━━━━━━━━━━━━━━━\u001b[0m\u001b[37m\u001b[0m \u001b[1m7s\u001b[0m 4ms/step - accuracy: 0.8728 - loss: 0.3583 - val_accuracy: 0.8780 - val_loss: 0.3506\n",
            "Epoch 6/10\n",
            "\u001b[1m1719/1719\u001b[0m \u001b[32m━━━━━━━━━━━━━━━━━━━━\u001b[0m\u001b[37m\u001b[0m \u001b[1m10s\u001b[0m 4ms/step - accuracy: 0.8773 - loss: 0.3435 - val_accuracy: 0.8764 - val_loss: 0.3469\n",
            "Epoch 7/10\n",
            "\u001b[1m1719/1719\u001b[0m \u001b[32m━━━━━━━━━━━━━━━━━━━━\u001b[0m\u001b[37m\u001b[0m \u001b[1m11s\u001b[0m 4ms/step - accuracy: 0.8799 - loss: 0.3375 - val_accuracy: 0.8718 - val_loss: 0.3638\n",
            "Epoch 8/10\n",
            "\u001b[1m1719/1719\u001b[0m \u001b[32m━━━━━━━━━━━━━━━━━━━━\u001b[0m\u001b[37m\u001b[0m \u001b[1m11s\u001b[0m 5ms/step - accuracy: 0.8821 - loss: 0.3339 - val_accuracy: 0.8778 - val_loss: 0.3443\n",
            "Epoch 9/10\n",
            "\u001b[1m1719/1719\u001b[0m \u001b[32m━━━━━━━━━━━━━━━━━━━━\u001b[0m\u001b[37m\u001b[0m \u001b[1m10s\u001b[0m 5ms/step - accuracy: 0.8866 - loss: 0.3172 - val_accuracy: 0.8764 - val_loss: 0.3512\n",
            "Epoch 10/10\n",
            "\u001b[1m1719/1719\u001b[0m \u001b[32m━━━━━━━━━━━━━━━━━━━━\u001b[0m\u001b[37m\u001b[0m \u001b[1m9s\u001b[0m 4ms/step - accuracy: 0.8879 - loss: 0.3120 - val_accuracy: 0.8778 - val_loss: 0.3342\n"
          ]
        }
      ]
    },
    {
      "cell_type": "markdown",
      "source": [
        "An epoch refers to a complete iteration through a training dataset. During each epoch, the model is trained on the entire training dataset, and the weights of the model are adjusted to minimize the loss function.\n",
        "\n",
        "In practical terms, an epoch is defined by the number of times the model has seen the entire dataset. For example, if the training dataset has 1000 samples and the model is trained for 10 epochs, then the model has seen the entire dataset 10 times, which means that it has been trained on 10 * 1000 = 10,000 samples in total.\n",
        "\n",
        "The number of epochs used during training is an important hyperparameter that can affect the performance of the model. If the model is trained for too few epochs, it may underfit."
      ],
      "metadata": {
        "id": "dSctpIoFXfod"
      }
    },
    {
      "cell_type": "markdown",
      "source": [
        "Accuracy and loss should be in different plots! But I was lazy.\n",
        "\n",
        "\n"
      ],
      "metadata": {
        "id": "VsgGl2LiAx2e"
      }
    },
    {
      "cell_type": "code",
      "source": [
        "pd.DataFrame(history.history).plot(figsize=(8, 5))\n",
        "plt.grid(True)\n",
        "plt.gca().set_ylim(0, 1) # set the vertical range to [0-1]\n",
        "plt.show()"
      ],
      "metadata": {
        "colab": {
          "base_uri": "https://localhost:8080/",
          "height": 451
        },
        "id": "z8LyKvk1Xdwr",
        "outputId": "98845fd5-1f29-4aa5-ca1b-68b9a0b65a97"
      },
      "execution_count": null,
      "outputs": [
        {
          "output_type": "display_data",
          "data": {
            "text/plain": [
              "<Figure size 800x500 with 1 Axes>"
            ],
            "image/png": "[encoded data removed]"
          },
          "metadata": {}
        }
      ]
    },
    {
      "cell_type": "markdown",
      "source": [
        "Note the shift to the right of the validation curves!"
      ],
      "metadata": {
        "id": "RfRX_hm0ZAPB"
      }
    },
    {
      "cell_type": "code",
      "source": [
        "model.evaluate(X_test, y_test)"
      ],
      "metadata": {
        "id": "5LOYNl32ZSQS",
        "colab": {
          "base_uri": "https://localhost:8080/"
        },
        "outputId": "8fab9732-5d60-44cf-81fb-0f4a85f2cc81"
      },
      "execution_count": null,
      "outputs": [
        {
          "output_type": "stream",
          "name": "stdout",
          "text": [
            "\u001b[1m313/313\u001b[0m \u001b[32m━━━━━━━━━━━━━━━━━━━━\u001b[0m\u001b[37m\u001b[0m \u001b[1m1s\u001b[0m 4ms/step - accuracy: 0.8477 - loss: 56.5617\n"
          ]
        },
        {
          "output_type": "execute_result",
          "data": {
            "text/plain": [
              "[60.2807731628418, 0.8413000106811523]"
            ]
          },
          "metadata": {},
          "execution_count": 33
        }
      ]
    },
    {
      "cell_type": "markdown",
      "source": [
        "Making Predictions"
      ],
      "metadata": {
        "id": "Y8_J1JVvZS_H"
      }
    },
    {
      "cell_type": "code",
      "source": [
        "X_new = X_test[:5] # The two dots mean all instances from 0 to 4.\n",
        "y_proba = model.predict(X_new)\n",
        "y_proba"
      ],
      "metadata": {
        "id": "7L4QnqcTZIC5",
        "colab": {
          "base_uri": "https://localhost:8080/"
        },
        "outputId": "5e54c742-95e3-4318-bfc1-f0fb6215b54e"
      },
      "execution_count": null,
      "outputs": [
        {
          "output_type": "stream",
          "name": "stdout",
          "text": [
            "\u001b[1m1/1\u001b[0m \u001b[32m━━━━━━━━━━━━━━━━━━━━\u001b[0m\u001b[37m\u001b[0m \u001b[1m0s\u001b[0m 39ms/step\n"
          ]
        },
        {
          "output_type": "execute_result",
          "data": {
            "text/plain": [
              "array([[0., 0., 0., 0., 0., 0., 0., 0., 0., 1.],\n",
              "       [0., 0., 1., 0., 0., 0., 0., 0., 0., 0.],\n",
              "       [0., 1., 0., 0., 0., 0., 0., 0., 0., 0.],\n",
              "       [0., 1., 0., 0., 0., 0., 0., 0., 0., 0.],\n",
              "       [0., 0., 0., 0., 0., 0., 1., 0., 0., 0.]], dtype=float32)"
            ]
          },
          "metadata": {},
          "execution_count": 55
        }
      ]
    },
    {
      "cell_type": "code",
      "source": [
        "plt.imshow(X_test[1], cmap='pink')\n",
        "plt.show()\n",
        "# class_names = [\"T-shirt/top\", \"Trouser\", \"Pullover\", \"Dress\", \"Coat\", \"Sandal\", \"Shirt\", \"Sneaker\", \"Bag\", \"Ankle boot\"]"
      ],
      "metadata": {
        "colab": {
          "base_uri": "https://localhost:8080/",
          "height": 430
        },
        "id": "D3LD9uL1DePt",
        "outputId": "cdd382fe-f7c5-4b42-e886-4e7584cd1638"
      },
      "execution_count": null,
      "outputs": [
        {
          "output_type": "display_data",
          "data": {
            "text/plain": [
              "<Figure size 640x480 with 1 Axes>"
            ],
            "image/png": "[encoded data removed]"
          },
          "metadata": {}
        }
      ]
    },
    {
      "cell_type": "markdown",
      "source": [
        "#**From MLP to CNNs**"
      ],
      "metadata": {
        "id": "JJpZw3MfwVTr"
      }
    },
    {
      "cell_type": "markdown",
      "source": [
        "### Comparing CNNs to MLPs: Parameter Sharing vs. Full Connectivity\n",
        "\n",
        "| **Feature**            | **CNNs (Convolutional Layers)**             | **MLPs (Fully Connected Layers)**        |\n",
        "|------------------------|---------------------------------------------|------------------------------------------|\n",
        "| **Connectivity**       | Each neuron connects **only to a local region** | Each neuron connects **to all input pixels** |\n",
        "| **Parameter Sharing**  | The **same filter weights** are applied **across all locations** | Each weight is **unique** for every input connection |\n",
        "| **Efficiency**         | **Fewer parameters** (good for large images)  | **Many parameters** (scales poorly with image size) |\n",
        "| **Spatial Structure**  | **Preserved** (filters detect patterns)       | **Lost** (flattening destroys spatial relationships) |\n",
        "| **Interpretability**   | Detects **edges, textures, objects**          | Learns **abstract patterns**, harder to interpret |\n",
        "\n",
        "✅ **CNNs are much more efficient for images** because **filters (kernels) share parameters across different regions**, reducing the number of learnable parameters significantly!\n"
      ],
      "metadata": {
        "id": "rCPy2tVH2gIM"
      }
    },
    {
      "cell_type": "markdown",
      "source": [
        "The first problem is the number of parameters. This code aims to demonstrate the difference in the number of parameters between a Multilayer Perceptron (MLP) and a Convolutional Neural Network (CNN) when dealing with image data."
      ],
      "metadata": {
        "id": "DwCpwXv-x5lG"
      }
    },
    {
      "cell_type": "code",
      "source": [
        "import torch\n",
        "import matplotlib.pyplot as plt\n",
        "import numpy as np\n",
        "\n",
        "# Define image dimensions\n",
        "image_channels = 3\n",
        "image_height = 32\n",
        "image_width = 32\n",
        "\n",
        "# Fully Connected (MLP) parameters\n",
        "input_size = image_channels * image_height * image_width  # 3 * 32 * 32 = 3072\n",
        "hidden_size = 300\n",
        "output_size = 10\n",
        "\n",
        "fc_params = input_size * hidden_size + hidden_size * output_size\n",
        "\n",
        "# CNN parameters (16 filters, 3x3 kernel, assuming only one conv layer)\n",
        "num_filters = 16 # Each filter slides over the image and learns a different feature.\n",
        "kernel_size = 3 # A 3×3 kernel means each filter covers a 3×3 pixel region at a time.\n",
        "cnn_params = (kernel_size * kernel_size * image_channels * num_filters) # Approx, missing the biases\n",
        "\n",
        "# Visualization\n",
        "labels = [\"MLP (Fully Connected)\", \"CNN (Conv Layer)\"]\n",
        "param_counts = [fc_params, cnn_params]\n",
        "\n",
        "plt.figure(figsize=(8, 5))\n",
        "plt.bar(labels, param_counts, color=['red', 'blue'])\n",
        "plt.ylabel(\"Number of Parameters\")\n",
        "plt.title(\"Parameter Count: MLP vs CNN\")\n",
        "plt.yscale('log')  # Log scale to highlight large differences\n",
        "plt.grid(axis='y', linestyle='--', alpha=0.7)\n",
        "plt.show()\n",
        "\n",
        "# Print exact parameter counts\n",
        "print(f\"Total parameters in MLP: {fc_params:,}\")\n",
        "print(f\"Total parameters in CNN conv layer: {cnn_params:,}\")\n"
      ],
      "metadata": {
        "colab": {
          "base_uri": "https://localhost:8080/",
          "height": 504
        },
        "id": "UH93ZTupwaAK",
        "outputId": "fdb35be6-8044-4962-e168-b4898bb062c9"
      },
      "execution_count": null,
      "outputs": [
        {
          "output_type": "display_data",
          "data": {
            "text/plain": [
              "<Figure size 800x500 with 1 Axes>"
            ],
            "image/png": "[encoded data removed]"
          },
          "metadata": {}
        },
        {
          "output_type": "stream",
          "name": "stdout",
          "text": [
            "Total parameters in MLP: 924,600\n",
            "Total parameters in CNN conv layer: 432\n"
          ]
        }
      ]
    },
    {
      "cell_type": "markdown",
      "source": [
        "# The second problem is that MLP treats all pixels equally"
      ],
      "metadata": {
        "id": "Yf6qY5igx8Lf"
      }
    },
    {
      "cell_type": "code",
      "source": [
        "import torch\n",
        "import torchvision\n",
        "import torchvision.transforms as transforms\n",
        "import matplotlib.pyplot as plt\n",
        "import numpy as np\n",
        "\n",
        "# Load Fashion-MNIST dataset\n",
        "transform = transforms.Compose([transforms.ToTensor()])\n",
        "dataset = torchvision.datasets.FashionMNIST(root='./data', train=True, download=True, transform=transform)\n",
        "image, label = dataset[0]  # Get the first image\n",
        "\n",
        "# Convert to NumPy\n",
        "image_np = image.squeeze().numpy()  # Shape (28, 28)\n",
        "\n",
        "# Choose a central pixel (e.g., center of the image)\n",
        "center_x, center_y = 14, 14\n",
        "center_value = image_np[center_y, center_x]\n",
        "\n",
        "# Compute similarity (inverse of absolute difference)\n",
        "similarity_map = 1 - np.abs(image_np - center_value)\n",
        "\n",
        "# Plot original image\n",
        "fig, ax = plt.subplots(1, 2, figsize=(10, 5))\n",
        "ax[0].imshow(image_np, cmap='gray')\n",
        "ax[0].scatter(center_x, center_y, color='red', marker='o', s=40)  # Mark the selected pixel\n",
        "ax[0].set_title(\"Original Image (Red = Selected Pixel)\")\n",
        "\n",
        "# Plot similarity heatmap\n",
        "ax[1].imshow(similarity_map, cmap='hot')  # 'hot' colormap to highlight similarity\n",
        "ax[1].set_title(\"Pixel Similarity Heatmap\")\n",
        "\n",
        "plt.show()\n"
      ],
      "metadata": {
        "colab": {
          "base_uri": "https://localhost:8080/",
          "height": 797
        },
        "id": "k5YHhebcyGtX",
        "outputId": "19ee4376-7c4e-46a8-c0b4-735b1f6d2dc4"
      },
      "execution_count": null,
      "outputs": [
        {
          "output_type": "stream",
          "name": "stdout",
          "text": [
            "Downloading http://fashion-mnist.s3-website.eu-central-1.amazonaws.com/train-images-idx3-ubyte.gz\n",
            "Downloading http://fashion-mnist.s3-website.eu-central-1.amazonaws.com/train-images-idx3-ubyte.gz to ./data/FashionMNIST/raw/train-images-idx3-ubyte.gz\n"
          ]
        },
        {
          "output_type": "stream",
          "name": "stderr",
          "text": [
            "100%|██████████| 26.4M/26.4M [00:01<00:00, 16.4MB/s]\n"
          ]
        },
        {
          "output_type": "stream",
          "name": "stdout",
          "text": [
            "Extracting ./data/FashionMNIST/raw/train-images-idx3-ubyte.gz to ./data/FashionMNIST/raw\n",
            "\n",
            "Downloading http://fashion-mnist.s3-website.eu-central-1.amazonaws.com/train-labels-idx1-ubyte.gz\n",
            "Downloading http://fashion-mnist.s3-website.eu-central-1.amazonaws.com/train-labels-idx1-ubyte.gz to ./data/FashionMNIST/raw/train-labels-idx1-ubyte.gz\n"
          ]
        },
        {
          "output_type": "stream",
          "name": "stderr",
          "text": [
            "100%|██████████| 29.5k/29.5k [00:00<00:00, 271kB/s]\n"
          ]
        },
        {
          "output_type": "stream",
          "name": "stdout",
          "text": [
            "Extracting ./data/FashionMNIST/raw/train-labels-idx1-ubyte.gz to ./data/FashionMNIST/raw\n",
            "\n",
            "Downloading http://fashion-mnist.s3-website.eu-central-1.amazonaws.com/t10k-images-idx3-ubyte.gz\n",
            "Downloading http://fashion-mnist.s3-website.eu-central-1.amazonaws.com/t10k-images-idx3-ubyte.gz to ./data/FashionMNIST/raw/t10k-images-idx3-ubyte.gz\n"
          ]
        },
        {
          "output_type": "stream",
          "name": "stderr",
          "text": [
            "100%|██████████| 4.42M/4.42M [00:00<00:00, 4.91MB/s]\n"
          ]
        },
        {
          "output_type": "stream",
          "name": "stdout",
          "text": [
            "Extracting ./data/FashionMNIST/raw/t10k-images-idx3-ubyte.gz to ./data/FashionMNIST/raw\n",
            "\n",
            "Downloading http://fashion-mnist.s3-website.eu-central-1.amazonaws.com/t10k-labels-idx1-ubyte.gz\n",
            "Downloading http://fashion-mnist.s3-website.eu-central-1.amazonaws.com/t10k-labels-idx1-ubyte.gz to ./data/FashionMNIST/raw/t10k-labels-idx1-ubyte.gz\n"
          ]
        },
        {
          "output_type": "stream",
          "name": "stderr",
          "text": [
            "100%|██████████| 5.15k/5.15k [00:00<00:00, 8.17MB/s]\n"
          ]
        },
        {
          "output_type": "stream",
          "name": "stdout",
          "text": [
            "Extracting ./data/FashionMNIST/raw/t10k-labels-idx1-ubyte.gz to ./data/FashionMNIST/raw\n",
            "\n"
          ]
        },
        {
          "output_type": "display_data",
          "data": {
            "text/plain": [
              "<Figure size 1000x500 with 2 Axes>"
            ],
            "image/png": "[encoded data removed]"
          },
          "metadata": {}
        }
      ]
    },
    {
      "cell_type": "markdown",
      "source": [
        "# How Can we solve this problem?\n",
        "\n",
        "MLPs flatten images, losing spatial structure.\n",
        "CNNs use small local receptive fields to capture edges, textures, and shapes.\n",
        "\n",
        "How Local Receptive Fields Work:\n",
        "\n",
        "*   Each filter focuses on a small region (3×3 in this example).\n",
        "*   Filters detect edges, textures, or patterns based on pixel intensity differences.\n",
        "*   Higher layers in CNNs combine these small features into larger, meaningful representations (e.g., shirt, shoe).\n"
      ],
      "metadata": {
        "id": "rsTdGEa6zBVV"
      }
    },
    {
      "cell_type": "code",
      "source": [
        "from scipy.ndimage import convolve\n",
        "\n",
        "# Define a simple 3x3 edge-detection filter (receptive field)\n",
        "edge_filter = np.array([\n",
        "    [-1, -1, -1],\n",
        "    [-1,  8, -1],\n",
        "    [-1, -1, -1]\n",
        "])\n",
        "\n",
        "# Apply the filter to the image\n",
        "filtered_image = convolve(image_np, edge_filter, mode='constant')\n",
        "\n",
        "# Show original vs. filtered image\n",
        "fig, ax = plt.subplots(1, 2, figsize=(10, 5))\n",
        "ax[0].imshow(image_np, cmap='gray')\n",
        "ax[0].set_title(\"Original Image\")\n",
        "ax[1].imshow(filtered_image, cmap='gray')\n",
        "ax[1].set_title(\"Filtered Image (Local Receptive Field)\")\n",
        "plt.show()\n"
      ],
      "metadata": {
        "colab": {
          "base_uri": "https://localhost:8080/",
          "height": 435
        },
        "id": "tq55F9eNyRP8",
        "outputId": "dc30e31d-2867-47fd-f537-b04b77edd2fe"
      },
      "execution_count": null,
      "outputs": [
        {
          "output_type": "display_data",
          "data": {
            "text/plain": [
              "<Figure size 1000x500 with 2 Axes>"
            ],
            "image/png": "[encoded data removed]"
          },
          "metadata": {}
        }
      ]
    },
    {
      "cell_type": "markdown",
      "source": [
        "# What does a convolution do?\n",
        "\n",
        "Convolution applies a weighted sum over a small region (kernel) of an image.\n",
        "Each pixel in the output is computed as:\n",
        "\n",
        "\n",
        "New Pixel=∑(Kernel×Region of Image)\n"
      ],
      "metadata": {
        "id": "b1Q7QFrL0no4"
      }
    },
    {
      "cell_type": "code",
      "source": [
        "import torch\n",
        "import torchvision\n",
        "import torchvision.transforms as transforms\n",
        "import numpy as np\n",
        "import matplotlib.pyplot as plt\n",
        "from scipy.ndimage import convolve\n",
        "\n",
        "# Load Fashion-MNIST dataset\n",
        "transform = transforms.Compose([transforms.ToTensor()])\n",
        "dataset = torchvision.datasets.FashionMNIST(root='./data', train=True, download=True, transform=transform)\n",
        "image, label = dataset[0]  # Get the first image\n",
        "\n",
        "# Convert to NumPy\n",
        "image_np = image.squeeze().numpy()  # Shape (28, 28)\n",
        "\n",
        "# Define a 3x3 edge detection kernel\n",
        "kernel = np.array([\n",
        "    [-1, -1, -1],\n",
        "    [-1,  8, -1],\n",
        "    [-1, -1, -1]\n",
        "])\n",
        "\n",
        "# Extract a 5x5 region from the image for clarity (centered around pixel (14,14))\n",
        "region = image_np[12:17, 12:17]\n",
        "\n",
        "# Apply convolution manually on the center 3x3 region\n",
        "def manual_convolution(region, kernel):\n",
        "    output = np.zeros((3, 3))  # Output is 3x3 because we are convolving within 5x5 region\n",
        "\n",
        "    for i in range(3):  # Slide over the 3x3 region within 5x5\n",
        "        for j in range(3):\n",
        "            patch = region[i:i+3, j:j+3]  # Extract 3x3 region\n",
        "            output[i, j] = np.sum(patch * kernel)  # Weighted sum (convolution)\n",
        "\n",
        "    return output\n",
        "\n",
        "# Compute convolution manually on the 5x5 region\n",
        "manual_result = manual_convolution(region, kernel)\n",
        "\n",
        "# Compute convolution using scipy.ndimage.convolve() on the same 5x5 region\n",
        "scipy_result = convolve(region, kernel, mode='constant')\n",
        "\n",
        "# Print results\n",
        "print(\"Original 5x5 Image Region:\")\n",
        "print(region)\n",
        "\n",
        "print(\"\\nManual Convolution Result (3x3 output):\")\n",
        "print(manual_result)\n",
        "\n",
        "print(\"\\nScipy Convolution Result (3x3 output):\")\n",
        "print(scipy_result)\n",
        "\n",
        "# Visualization (Zoomed in on central 3x3 region of SciPy result)\n",
        "fig, ax = plt.subplots(1, 3, figsize=(12, 4))\n",
        "\n",
        "ax[0].imshow(region, cmap='gray')\n",
        "ax[0].set_title(\"Original 5x5 Region\")\n",
        "\n",
        "ax[1].imshow(manual_result, cmap='gray')\n",
        "ax[1].set_title(\"Manual Convolution (3x3)\")\n",
        "\n",
        "# Zoom in on central 3x3 of SciPy result\n",
        "scipy_center = scipy_result[1:4, 1:4]  # Extract central 3x3\n",
        "ax[2].imshow(scipy_center, cmap='gray')\n",
        "ax[2].set_title(\"SciPy Convolution (Central 3x3)\")\n",
        "\n",
        "plt.show()\n"
      ],
      "metadata": {
        "colab": {
          "base_uri": "https://localhost:8080/",
          "height": 682
        },
        "id": "lE3yZDIu0nLm",
        "outputId": "32a90f9c-0f44-4baf-edcb-159e2f2c1737"
      },
      "execution_count": null,
      "outputs": [
        {
          "output_type": "stream",
          "name": "stdout",
          "text": [
            "Original 5x5 Image Region:\n",
            "[[0.3882353  0.95686275 0.87058824 0.8627451  0.85490197]\n",
            " [0.21568628 0.9254902  0.89411765 0.9019608  0.89411765]\n",
            " [0.92941177 0.8862745  0.8509804  0.8745098  0.87058824]\n",
            " [0.89411765 0.8117647  0.8352941  0.8666667  0.85490197]\n",
            " [0.8509804  0.8862745  0.78431374 0.8039216  0.827451  ]]\n",
            "\n",
            "Manual Convolution Result (3x3 output):\n",
            "[[ 1.4117647   0.02352941  0.24313724]\n",
            " [ 0.73333333 -0.18823528  0.02745098]\n",
            " [-0.42352939 -0.08235294  0.23137254]]\n",
            "\n",
            "Scipy Convolution Result (3x3 output):\n",
            "[[ 1.0078431   4.3607845   2.4235294   2.4862745   4.1803923 ]\n",
            " [-2.3607843   1.4117647   0.02352941  0.24313724  2.7882352 ]\n",
            " [ 3.7019608   0.73333335 -0.18823528  0.02745098  2.572549  ]\n",
            " [ 2.7882352  -0.4235294  -0.08235294  0.23137254  2.5960784 ]\n",
            " [ 4.2156863   2.9137254   2.0705884   2.2627451   4.0941176 ]]\n"
          ]
        },
        {
          "output_type": "display_data",
          "data": {
            "text/plain": [
              "<Figure size 1200x400 with 3 Axes>"
            ],
            "image/png": "[encoded data removed]"
          },
          "metadata": {}
        }
      ]
    }
  ]
}