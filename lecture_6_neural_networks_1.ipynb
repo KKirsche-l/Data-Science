{
  "nbformat": 4,
  "nbformat_minor": 0,
  "metadata": {
    "colab": {
      "provenance": [],
      "include_colab_link": true
    },
    "kernelspec": {
      "name": "python3",
      "display_name": "Python 3"
    },
    "language_info": {
      "name": "python"
    }
  },
  "cells": [
    {
      "cell_type": "markdown",
      "metadata": {
        "id": "view-in-github",
        "colab_type": "text"
      },
      "source": [
        "<a href=\"https://colab.research.google.com/github/KKirsche-l/Data-Science/blob/main/lecture_6_neural_networks_1.ipynb\" target=\"_parent\"><img src=\"https://colab.research.google.com/assets/colab-badge.svg\" alt=\"Open In Colab\"/></a>"
      ]
    },
    {
      "cell_type": "code",
      "source": [
        "import pandas as pd\n",
        "import numpy as np\n",
        "from sklearn.neural_network import MLPClassifier"
      ],
      "metadata": {
        "id": "Xl6jdopiTv7d"
      },
      "execution_count": null,
      "outputs": []
    },
    {
      "cell_type": "markdown",
      "source": [
        "Dataset"
      ],
      "metadata": {
        "id": "MxXQFsNyTx3h"
      }
    },
    {
      "cell_type": "code",
      "execution_count": null,
      "metadata": {
        "colab": {
          "base_uri": "https://localhost:8080/"
        },
        "id": "jeNHdFfWTFwN",
        "outputId": "d5b7c2e1-75b2-4951-80d2-ede4659f077a"
      },
      "outputs": [
        {
          "output_type": "stream",
          "name": "stdout",
          "text": [
            "       X  Y\n",
            "0  -1.50  0\n",
            "1  -1.30  0\n",
            "2  -1.25  0\n",
            "3  -0.70  0\n",
            "4  -0.50  1\n",
            "5  -0.10  1\n",
            "6   0.10  1\n",
            "7   0.30  1\n",
            "8   0.80  0\n",
            "9   1.10  0\n",
            "10  1.30  0\n",
            "11  1.50  0\n"
          ]
        }
      ],
      "source": [
        "\n",
        "# create a list of values for column X\n",
        "x_values = [-1.5, -1.3, -1.25, -0.7, -0.5, -0.1, 0.1, 0.3, 0.8, 1.1, 1.3, 1.5]\n",
        "\n",
        "# create a list of zeros for column Y\n",
        "y_values = [0, 0, 0, 0, 1, 1, 1, 1, 0, 0, 0, 0]\n",
        "\n",
        "# create a dictionary with column names and values\n",
        "data = {'X': x_values, 'Y': y_values}\n",
        "\n",
        "# create a pandas DataFrame\n",
        "df = pd.DataFrame(data)\n",
        "\n",
        "print(df)"
      ]
    },
    {
      "cell_type": "markdown",
      "source": [],
      "metadata": {
        "id": "1tQOBwtyVvRV"
      }
    },
    {
      "cell_type": "markdown",
      "source": [
        "### Neural Network Implementation\n",
        "\n",
        "We use sci-kit learn to create the same network we have created in excel."
      ],
      "metadata": {
        "id": "TRZYFsSrVkgX"
      }
    },
    {
      "cell_type": "markdown",
      "source": [
        "![simple network.png](data:image/png;base64,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)"
      ],
      "metadata": {
        "id": "eZ561rZNVqX1"
      }
    },
    {
      "cell_type": "code",
      "source": [
        "import numpy as np\n",
        "from sklearn.neural_network import MLPClassifier\n",
        "\n",
        "# Define MLP Classifier\n",
        "clf = MLPClassifier(\n",
        "    solver='lbfgs',\n",
        "    alpha=0.0001,\n",
        "    hidden_layer_sizes=(2,),\n",
        "    activation='logistic',\n",
        "    max_iter=15,\n",
        "    warm_start=True\n",
        ")\n",
        "\n",
        "# Generate input features and target\n",
        "X = np.array(x_values).reshape(-1, 1)\n",
        "Y = np.array(y_values)  # Ensure Y is 1D for classification\n",
        "\n",
        "# Now, fit the classifier with actual data\n",
        "clf.fit(X, Y)\n"
      ],
      "metadata": {
        "colab": {
          "base_uri": "https://localhost:8080/",
          "height": 202
        },
        "id": "iy9dYJuWVFDn",
        "outputId": "8359aa02-1e63-41f5-e209-df6d96eba972"
      },
      "execution_count": null,
      "outputs": [
        {
          "output_type": "stream",
          "name": "stderr",
          "text": [
            "/usr/local/lib/python3.11/dist-packages/sklearn/neural_network/_multilayer_perceptron.py:546: ConvergenceWarning: lbfgs failed to converge (status=1):\n",
            "STOP: TOTAL NO. of ITERATIONS REACHED LIMIT.\n",
            "\n",
            "Increase the number of iterations (max_iter) or scale the data as shown in:\n",
            "    https://scikit-learn.org/stable/modules/preprocessing.html\n",
            "  self.n_iter_ = _check_optimize_result(\"lbfgs\", opt_res, self.max_iter)\n"
          ]
        },
        {
          "output_type": "execute_result",
          "data": {
            "text/plain": [
              "MLPClassifier(activation='logistic', hidden_layer_sizes=(2,), max_iter=15,\n",
              "              solver='lbfgs', warm_start=True)"
            ],
            "text/html": [
              "<style>#sk-container-id-7 {\n",
              "  /* Definition of color scheme common for light and dark mode */\n",
              "  --sklearn-color-text: #000;\n",
              "  --sklearn-color-text-muted: #666;\n",
              "  --sklearn-color-line: gray;\n",
              "  /* Definition of color scheme for unfitted estimators */\n",
              "  --sklearn-color-unfitted-level-0: #fff5e6;\n",
              "  --sklearn-color-unfitted-level-1: #f6e4d2;\n",
              "  --sklearn-color-unfitted-level-2: #ffe0b3;\n",
              "  --sklearn-color-unfitted-level-3: chocolate;\n",
              "  /* Definition of color scheme for fitted estimators */\n",
              "  --sklearn-color-fitted-level-0: #f0f8ff;\n",
              "  --sklearn-color-fitted-level-1: #d4ebff;\n",
              "  --sklearn-color-fitted-level-2: #b3dbfd;\n",
              "  --sklearn-color-fitted-level-3: cornflowerblue;\n",
              "\n",
              "  /* Specific color for light theme */\n",
              "  --sklearn-color-text-on-default-background: var(--sg-text-color, var(--theme-code-foreground, var(--jp-content-font-color1, black)));\n",
              "  --sklearn-color-background: var(--sg-background-color, var(--theme-background, var(--jp-layout-color0, white)));\n",
              "  --sklearn-color-border-box: var(--sg-text-color, var(--theme-code-foreground, var(--jp-content-font-color1, black)));\n",
              "  --sklearn-color-icon: #696969;\n",
              "\n",
              "  @media (prefers-color-scheme: dark) {\n",
              "    /* Redefinition of color scheme for dark theme */\n",
              "    --sklearn-color-text-on-default-background: var(--sg-text-color, var(--theme-code-foreground, var(--jp-content-font-color1, white)));\n",
              "    --sklearn-color-background: var(--sg-background-color, var(--theme-background, var(--jp-layout-color0, #111)));\n",
              "    --sklearn-color-border-box: var(--sg-text-color, var(--theme-code-foreground, var(--jp-content-font-color1, white)));\n",
              "    --sklearn-color-icon: #878787;\n",
              "  }\n",
              "}\n",
              "\n",
              "#sk-container-id-7 {\n",
              "  color: var(--sklearn-color-text);\n",
              "}\n",
              "\n",
              "#sk-container-id-7 pre {\n",
              "  padding: 0;\n",
              "}\n",
              "\n",
              "#sk-container-id-7 input.sk-hidden--visually {\n",
              "  border: 0;\n",
              "  clip: rect(1px 1px 1px 1px);\n",
              "  clip: rect(1px, 1px, 1px, 1px);\n",
              "  height: 1px;\n",
              "  margin: -1px;\n",
              "  overflow: hidden;\n",
              "  padding: 0;\n",
              "  position: absolute;\n",
              "  width: 1px;\n",
              "}\n",
              "\n",
              "#sk-container-id-7 div.sk-dashed-wrapped {\n",
              "  border: 1px dashed var(--sklearn-color-line);\n",
              "  margin: 0 0.4em 0.5em 0.4em;\n",
              "  box-sizing: border-box;\n",
              "  padding-bottom: 0.4em;\n",
              "  background-color: var(--sklearn-color-background);\n",
              "}\n",
              "\n",
              "#sk-container-id-7 div.sk-container {\n",
              "  /* jupyter's `normalize.less` sets `[hidden] { display: none; }`\n",
              "     but bootstrap.min.css set `[hidden] { display: none !important; }`\n",
              "     so we also need the `!important` here to be able to override the\n",
              "     default hidden behavior on the sphinx rendered scikit-learn.org.\n",
              "     See: https://github.com/scikit-learn/scikit-learn/issues/21755 */\n",
              "  display: inline-block !important;\n",
              "  position: relative;\n",
              "}\n",
              "\n",
              "#sk-container-id-7 div.sk-text-repr-fallback {\n",
              "  display: none;\n",
              "}\n",
              "\n",
              "div.sk-parallel-item,\n",
              "div.sk-serial,\n",
              "div.sk-item {\n",
              "  /* draw centered vertical line to link estimators */\n",
              "  background-image: linear-gradient(var(--sklearn-color-text-on-default-background), var(--sklearn-color-text-on-default-background));\n",
              "  background-size: 2px 100%;\n",
              "  background-repeat: no-repeat;\n",
              "  background-position: center center;\n",
              "}\n",
              "\n",
              "/* Parallel-specific style estimator block */\n",
              "\n",
              "#sk-container-id-7 div.sk-parallel-item::after {\n",
              "  content: \"\";\n",
              "  width: 100%;\n",
              "  border-bottom: 2px solid var(--sklearn-color-text-on-default-background);\n",
              "  flex-grow: 1;\n",
              "}\n",
              "\n",
              "#sk-container-id-7 div.sk-parallel {\n",
              "  display: flex;\n",
              "  align-items: stretch;\n",
              "  justify-content: center;\n",
              "  background-color: var(--sklearn-color-background);\n",
              "  position: relative;\n",
              "}\n",
              "\n",
              "#sk-container-id-7 div.sk-parallel-item {\n",
              "  display: flex;\n",
              "  flex-direction: column;\n",
              "}\n",
              "\n",
              "#sk-container-id-7 div.sk-parallel-item:first-child::after {\n",
              "  align-self: flex-end;\n",
              "  width: 50%;\n",
              "}\n",
              "\n",
              "#sk-container-id-7 div.sk-parallel-item:last-child::after {\n",
              "  align-self: flex-start;\n",
              "  width: 50%;\n",
              "}\n",
              "\n",
              "#sk-container-id-7 div.sk-parallel-item:only-child::after {\n",
              "  width: 0;\n",
              "}\n",
              "\n",
              "/* Serial-specific style estimator block */\n",
              "\n",
              "#sk-container-id-7 div.sk-serial {\n",
              "  display: flex;\n",
              "  flex-direction: column;\n",
              "  align-items: center;\n",
              "  background-color: var(--sklearn-color-background);\n",
              "  padding-right: 1em;\n",
              "  padding-left: 1em;\n",
              "}\n",
              "\n",
              "\n",
              "/* Toggleable style: style used for estimator/Pipeline/ColumnTransformer box that is\n",
              "clickable and can be expanded/collapsed.\n",
              "- Pipeline and ColumnTransformer use this feature and define the default style\n",
              "- Estimators will overwrite some part of the style using the `sk-estimator` class\n",
              "*/\n",
              "\n",
              "/* Pipeline and ColumnTransformer style (default) */\n",
              "\n",
              "#sk-container-id-7 div.sk-toggleable {\n",
              "  /* Default theme specific background. It is overwritten whether we have a\n",
              "  specific estimator or a Pipeline/ColumnTransformer */\n",
              "  background-color: var(--sklearn-color-background);\n",
              "}\n",
              "\n",
              "/* Toggleable label */\n",
              "#sk-container-id-7 label.sk-toggleable__label {\n",
              "  cursor: pointer;\n",
              "  display: flex;\n",
              "  width: 100%;\n",
              "  margin-bottom: 0;\n",
              "  padding: 0.5em;\n",
              "  box-sizing: border-box;\n",
              "  text-align: center;\n",
              "  align-items: start;\n",
              "  justify-content: space-between;\n",
              "  gap: 0.5em;\n",
              "}\n",
              "\n",
              "#sk-container-id-7 label.sk-toggleable__label .caption {\n",
              "  font-size: 0.6rem;\n",
              "  font-weight: lighter;\n",
              "  color: var(--sklearn-color-text-muted);\n",
              "}\n",
              "\n",
              "#sk-container-id-7 label.sk-toggleable__label-arrow:before {\n",
              "  /* Arrow on the left of the label */\n",
              "  content: \"▸\";\n",
              "  float: left;\n",
              "  margin-right: 0.25em;\n",
              "  color: var(--sklearn-color-icon);\n",
              "}\n",
              "\n",
              "#sk-container-id-7 label.sk-toggleable__label-arrow:hover:before {\n",
              "  color: var(--sklearn-color-text);\n",
              "}\n",
              "\n",
              "/* Toggleable content - dropdown */\n",
              "\n",
              "#sk-container-id-7 div.sk-toggleable__content {\n",
              "  max-height: 0;\n",
              "  max-width: 0;\n",
              "  overflow: hidden;\n",
              "  text-align: left;\n",
              "  /* unfitted */\n",
              "  background-color: var(--sklearn-color-unfitted-level-0);\n",
              "}\n",
              "\n",
              "#sk-container-id-7 div.sk-toggleable__content.fitted {\n",
              "  /* fitted */\n",
              "  background-color: var(--sklearn-color-fitted-level-0);\n",
              "}\n",
              "\n",
              "#sk-container-id-7 div.sk-toggleable__content pre {\n",
              "  margin: 0.2em;\n",
              "  border-radius: 0.25em;\n",
              "  color: var(--sklearn-color-text);\n",
              "  /* unfitted */\n",
              "  background-color: var(--sklearn-color-unfitted-level-0);\n",
              "}\n",
              "\n",
              "#sk-container-id-7 div.sk-toggleable__content.fitted pre {\n",
              "  /* unfitted */\n",
              "  background-color: var(--sklearn-color-fitted-level-0);\n",
              "}\n",
              "\n",
              "#sk-container-id-7 input.sk-toggleable__control:checked~div.sk-toggleable__content {\n",
              "  /* Expand drop-down */\n",
              "  max-height: 200px;\n",
              "  max-width: 100%;\n",
              "  overflow: auto;\n",
              "}\n",
              "\n",
              "#sk-container-id-7 input.sk-toggleable__control:checked~label.sk-toggleable__label-arrow:before {\n",
              "  content: \"▾\";\n",
              "}\n",
              "\n",
              "/* Pipeline/ColumnTransformer-specific style */\n",
              "\n",
              "#sk-container-id-7 div.sk-label input.sk-toggleable__control:checked~label.sk-toggleable__label {\n",
              "  color: var(--sklearn-color-text);\n",
              "  background-color: var(--sklearn-color-unfitted-level-2);\n",
              "}\n",
              "\n",
              "#sk-container-id-7 div.sk-label.fitted input.sk-toggleable__control:checked~label.sk-toggleable__label {\n",
              "  background-color: var(--sklearn-color-fitted-level-2);\n",
              "}\n",
              "\n",
              "/* Estimator-specific style */\n",
              "\n",
              "/* Colorize estimator box */\n",
              "#sk-container-id-7 div.sk-estimator input.sk-toggleable__control:checked~label.sk-toggleable__label {\n",
              "  /* unfitted */\n",
              "  background-color: var(--sklearn-color-unfitted-level-2);\n",
              "}\n",
              "\n",
              "#sk-container-id-7 div.sk-estimator.fitted input.sk-toggleable__control:checked~label.sk-toggleable__label {\n",
              "  /* fitted */\n",
              "  background-color: var(--sklearn-color-fitted-level-2);\n",
              "}\n",
              "\n",
              "#sk-container-id-7 div.sk-label label.sk-toggleable__label,\n",
              "#sk-container-id-7 div.sk-label label {\n",
              "  /* The background is the default theme color */\n",
              "  color: var(--sklearn-color-text-on-default-background);\n",
              "}\n",
              "\n",
              "/* On hover, darken the color of the background */\n",
              "#sk-container-id-7 div.sk-label:hover label.sk-toggleable__label {\n",
              "  color: var(--sklearn-color-text);\n",
              "  background-color: var(--sklearn-color-unfitted-level-2);\n",
              "}\n",
              "\n",
              "/* Label box, darken color on hover, fitted */\n",
              "#sk-container-id-7 div.sk-label.fitted:hover label.sk-toggleable__label.fitted {\n",
              "  color: var(--sklearn-color-text);\n",
              "  background-color: var(--sklearn-color-fitted-level-2);\n",
              "}\n",
              "\n",
              "/* Estimator label */\n",
              "\n",
              "#sk-container-id-7 div.sk-label label {\n",
              "  font-family: monospace;\n",
              "  font-weight: bold;\n",
              "  display: inline-block;\n",
              "  line-height: 1.2em;\n",
              "}\n",
              "\n",
              "#sk-container-id-7 div.sk-label-container {\n",
              "  text-align: center;\n",
              "}\n",
              "\n",
              "/* Estimator-specific */\n",
              "#sk-container-id-7 div.sk-estimator {\n",
              "  font-family: monospace;\n",
              "  border: 1px dotted var(--sklearn-color-border-box);\n",
              "  border-radius: 0.25em;\n",
              "  box-sizing: border-box;\n",
              "  margin-bottom: 0.5em;\n",
              "  /* unfitted */\n",
              "  background-color: var(--sklearn-color-unfitted-level-0);\n",
              "}\n",
              "\n",
              "#sk-container-id-7 div.sk-estimator.fitted {\n",
              "  /* fitted */\n",
              "  background-color: var(--sklearn-color-fitted-level-0);\n",
              "}\n",
              "\n",
              "/* on hover */\n",
              "#sk-container-id-7 div.sk-estimator:hover {\n",
              "  /* unfitted */\n",
              "  background-color: var(--sklearn-color-unfitted-level-2);\n",
              "}\n",
              "\n",
              "#sk-container-id-7 div.sk-estimator.fitted:hover {\n",
              "  /* fitted */\n",
              "  background-color: var(--sklearn-color-fitted-level-2);\n",
              "}\n",
              "\n",
              "/* Specification for estimator info (e.g. \"i\" and \"?\") */\n",
              "\n",
              "/* Common style for \"i\" and \"?\" */\n",
              "\n",
              ".sk-estimator-doc-link,\n",
              "a:link.sk-estimator-doc-link,\n",
              "a:visited.sk-estimator-doc-link {\n",
              "  float: right;\n",
              "  font-size: smaller;\n",
              "  line-height: 1em;\n",
              "  font-family: monospace;\n",
              "  background-color: var(--sklearn-color-background);\n",
              "  border-radius: 1em;\n",
              "  height: 1em;\n",
              "  width: 1em;\n",
              "  text-decoration: none !important;\n",
              "  margin-left: 0.5em;\n",
              "  text-align: center;\n",
              "  /* unfitted */\n",
              "  border: var(--sklearn-color-unfitted-level-1) 1pt solid;\n",
              "  color: var(--sklearn-color-unfitted-level-1);\n",
              "}\n",
              "\n",
              ".sk-estimator-doc-link.fitted,\n",
              "a:link.sk-estimator-doc-link.fitted,\n",
              "a:visited.sk-estimator-doc-link.fitted {\n",
              "  /* fitted */\n",
              "  border: var(--sklearn-color-fitted-level-1) 1pt solid;\n",
              "  color: var(--sklearn-color-fitted-level-1);\n",
              "}\n",
              "\n",
              "/* On hover */\n",
              "div.sk-estimator:hover .sk-estimator-doc-link:hover,\n",
              ".sk-estimator-doc-link:hover,\n",
              "div.sk-label-container:hover .sk-estimator-doc-link:hover,\n",
              ".sk-estimator-doc-link:hover {\n",
              "  /* unfitted */\n",
              "  background-color: var(--sklearn-color-unfitted-level-3);\n",
              "  color: var(--sklearn-color-background);\n",
              "  text-decoration: none;\n",
              "}\n",
              "\n",
              "div.sk-estimator.fitted:hover .sk-estimator-doc-link.fitted:hover,\n",
              ".sk-estimator-doc-link.fitted:hover,\n",
              "div.sk-label-container:hover .sk-estimator-doc-link.fitted:hover,\n",
              ".sk-estimator-doc-link.fitted:hover {\n",
              "  /* fitted */\n",
              "  background-color: var(--sklearn-color-fitted-level-3);\n",
              "  color: var(--sklearn-color-background);\n",
              "  text-decoration: none;\n",
              "}\n",
              "\n",
              "/* Span, style for the box shown on hovering the info icon */\n",
              ".sk-estimator-doc-link span {\n",
              "  display: none;\n",
              "  z-index: 9999;\n",
              "  position: relative;\n",
              "  font-weight: normal;\n",
              "  right: .2ex;\n",
              "  padding: .5ex;\n",
              "  margin: .5ex;\n",
              "  width: min-content;\n",
              "  min-width: 20ex;\n",
              "  max-width: 50ex;\n",
              "  color: var(--sklearn-color-text);\n",
              "  box-shadow: 2pt 2pt 4pt #999;\n",
              "  /* unfitted */\n",
              "  background: var(--sklearn-color-unfitted-level-0);\n",
              "  border: .5pt solid var(--sklearn-color-unfitted-level-3);\n",
              "}\n",
              "\n",
              ".sk-estimator-doc-link.fitted span {\n",
              "  /* fitted */\n",
              "  background: var(--sklearn-color-fitted-level-0);\n",
              "  border: var(--sklearn-color-fitted-level-3);\n",
              "}\n",
              "\n",
              ".sk-estimator-doc-link:hover span {\n",
              "  display: block;\n",
              "}\n",
              "\n",
              "/* \"?\"-specific style due to the `<a>` HTML tag */\n",
              "\n",
              "#sk-container-id-7 a.estimator_doc_link {\n",
              "  float: right;\n",
              "  font-size: 1rem;\n",
              "  line-height: 1em;\n",
              "  font-family: monospace;\n",
              "  background-color: var(--sklearn-color-background);\n",
              "  border-radius: 1rem;\n",
              "  height: 1rem;\n",
              "  width: 1rem;\n",
              "  text-decoration: none;\n",
              "  /* unfitted */\n",
              "  color: var(--sklearn-color-unfitted-level-1);\n",
              "  border: var(--sklearn-color-unfitted-level-1) 1pt solid;\n",
              "}\n",
              "\n",
              "#sk-container-id-7 a.estimator_doc_link.fitted {\n",
              "  /* fitted */\n",
              "  border: var(--sklearn-color-fitted-level-1) 1pt solid;\n",
              "  color: var(--sklearn-color-fitted-level-1);\n",
              "}\n",
              "\n",
              "/* On hover */\n",
              "#sk-container-id-7 a.estimator_doc_link:hover {\n",
              "  /* unfitted */\n",
              "  background-color: var(--sklearn-color-unfitted-level-3);\n",
              "  color: var(--sklearn-color-background);\n",
              "  text-decoration: none;\n",
              "}\n",
              "\n",
              "#sk-container-id-7 a.estimator_doc_link.fitted:hover {\n",
              "  /* fitted */\n",
              "  background-color: var(--sklearn-color-fitted-level-3);\n",
              "}\n",
              "</style><div id=\"sk-container-id-7\" class=\"sk-top-container\"><div class=\"sk-text-repr-fallback\"><pre>MLPClassifier(activation=&#x27;logistic&#x27;, hidden_layer_sizes=(2,), max_iter=15,\n",
              "              solver=&#x27;lbfgs&#x27;, warm_start=True)</pre><b>In a Jupyter environment, please rerun this cell to show the HTML representation or trust the notebook. <br />On GitHub, the HTML representation is unable to render, please try loading this page with nbviewer.org.</b></div><div class=\"sk-container\" hidden><div class=\"sk-item\"><div class=\"sk-estimator fitted sk-toggleable\"><input class=\"sk-toggleable__control sk-hidden--visually\" id=\"sk-estimator-id-7\" type=\"checkbox\" checked><label for=\"sk-estimator-id-7\" class=\"sk-toggleable__label fitted sk-toggleable__label-arrow\"><div><div>MLPClassifier</div></div><div><a class=\"sk-estimator-doc-link fitted\" rel=\"noreferrer\" target=\"_blank\" href=\"https://scikit-learn.org/1.6/modules/generated/sklearn.neural_network.MLPClassifier.html\">?<span>Documentation for MLPClassifier</span></a><span class=\"sk-estimator-doc-link fitted\">i<span>Fitted</span></span></div></label><div class=\"sk-toggleable__content fitted\"><pre>MLPClassifier(activation=&#x27;logistic&#x27;, hidden_layer_sizes=(2,), max_iter=15,\n",
              "              solver=&#x27;lbfgs&#x27;, warm_start=True)</pre></div> </div></div></div></div>"
            ]
          },
          "metadata": {},
          "execution_count": 30
        }
      ]
    },
    {
      "cell_type": "code",
      "source": [
        "[coef.shape for coef in clf.coefs_]"
      ],
      "metadata": {
        "colab": {
          "base_uri": "https://localhost:8080/"
        },
        "id": "4504KGY6ivyk",
        "outputId": "31fcef9e-056f-4357-a92f-dfd3e1d33c9c"
      },
      "execution_count": null,
      "outputs": [
        {
          "output_type": "execute_result",
          "data": {
            "text/plain": [
              "[(1, 2), (2, 1)]"
            ]
          },
          "metadata": {},
          "execution_count": 22
        }
      ]
    },
    {
      "cell_type": "code",
      "source": [
        "print(clf.coefs_)"
      ],
      "metadata": {
        "colab": {
          "base_uri": "https://localhost:8080/"
        },
        "id": "5BSwTbesYCMx",
        "outputId": "0c7a3d34-09b9-4e22-afd5-17557fec3cab"
      },
      "execution_count": null,
      "outputs": [
        {
          "output_type": "stream",
          "name": "stdout",
          "text": [
            "[array([[ 9.09520998, 14.86741335]]), array([[-16.88058198],\n",
            "       [ 18.43705612]])]\n"
          ]
        }
      ]
    },
    {
      "cell_type": "code",
      "source": [
        "print(clf.intercepts_)"
      ],
      "metadata": {
        "colab": {
          "base_uri": "https://localhost:8080/"
        },
        "id": "Ecn1HjPXafUs",
        "outputId": "20059df3-e4f4-4514-ac3f-2e44d31b8121"
      },
      "execution_count": null,
      "outputs": [
        {
          "output_type": "stream",
          "name": "stdout",
          "text": [
            "[array([-4.87580713,  9.09097828]), array([-9.78315484])]\n"
          ]
        }
      ]
    },
    {
      "cell_type": "code",
      "source": [
        "clf.predict([[0]])"
      ],
      "metadata": {
        "colab": {
          "base_uri": "https://localhost:8080/"
        },
        "id": "BIZ8Y4Jjb5aK",
        "outputId": "5da130c4-da0e-4bcd-8dd1-b6cbd2847b67"
      },
      "execution_count": null,
      "outputs": [
        {
          "output_type": "execute_result",
          "data": {
            "text/plain": [
              "array([0])"
            ]
          },
          "metadata": {},
          "execution_count": 19
        }
      ]
    },
    {
      "cell_type": "code",
      "source": [
        "import numpy as np\n",
        "import matplotlib.pyplot as plt\n",
        "\n",
        "# Create vector X with 100 steps between -1.5 and 1.5\n",
        "X = np.linspace(-1.5, 1.5, num=100)\n",
        "X = X.reshape(-1,1)\n",
        "\n",
        "# Define a function to apply to X to generate Y_pred\n",
        "# def my_func(x):\n",
        "#    return np.sin(3*np.pi*x)/(3*np.pi*x)\n",
        "\n",
        "# Apply the function to X to generate Y_pred\n",
        "Y_pred = clf.predict(X)\n",
        "\n",
        "# Plot the result as a line\n",
        "plt.plot(X, Y_pred)\n",
        "plt.xlabel('X')\n",
        "plt.ylabel('Y_pred')\n",
        "plt.title('Function applied to X')\n",
        "plt.show()"
      ],
      "metadata": {
        "colab": {
          "base_uri": "https://localhost:8080/",
          "height": 472
        },
        "id": "UtAPMs0wclG9",
        "outputId": "2f3a9380-7e0e-4b8a-8c03-cfcca8e19248"
      },
      "execution_count": null,
      "outputs": [
        {
          "output_type": "display_data",
          "data": {
            "text/plain": [
              "<Figure size 640x480 with 1 Axes>"
            ],
            "image/png": "[encoded data removed]"
          },
          "metadata": {}
        }
      ]
    }
  ]
}